{
 "cells": [
  {
   "cell_type": "markdown",
   "metadata": {},
   "source": [
    "# Aula 1"
   ]
  },
  {
   "cell_type": "code",
   "execution_count": null,
   "metadata": {},
   "outputs": [],
   "source": [
    "# -*- coding: latin1 -*-\n",
    "# Uma linha quebrada por contra-barra\n",
    "a = 7 * 3 + \\\n",
    "5 / 2\n",
    "# Uma lista (quebrada por vírgula)\n",
    "b = ['a', 'b', 'c',\n",
    "'d', 'e']\n",
    "# Uma chamada de função (quebrada por vírgula)\n",
    "c = range(1,\n",
    "11)\n",
    "# imprime todos na tela\n",
    "print a, b, c"
   ]
  },
  {
   "cell_type": "markdown",
   "metadata": {},
   "source": [
    "### O erro ocorreu devido à diferença de versões do python. Criamos um código na versão 2 e executamos na versão 3."
   ]
  },
  {
   "cell_type": "code",
   "execution_count": null,
   "metadata": {},
   "outputs": [],
   "source": [
    "# Uma linha quebrada por contra-barra\n",
    "a = 7 * 3 + \\\n",
    "5 / 2\n",
    "# Uma lista (quebrada por vírgula)\n",
    "b = ['a', 'b', 'c',\n",
    "'d', 'e']\n",
    "d = [1,2,3,4,\n",
    "    5,6,7]\n",
    "# Uma chamada de função (quebrada por vírgula)\n",
    "c = range(1,\n",
    "11)\n",
    "# imprime todos na tela\n",
    "print (a, b, c)"
   ]
  },
  {
   "cell_type": "markdown",
   "metadata": {},
   "source": [
    "## Comentários"
   ]
  },
  {
   "cell_type": "code",
   "execution_count": null,
   "metadata": {},
   "outputs": [],
   "source": [
    "# comentário em apenas uma linha\n",
    "# para cada linha preciso adicionar o identificador de comentário\n",
    "\n",
    "\"\"\"\n",
    "Este é um exemplo de bloco de comentário\n",
    "Comentário em mais de uma linha\n",
    "É mais usado para Docstrings: documentação e teste do código em python\n",
    "\n",
    "Para saber mais, acesse: https://www.python.org/dev/peps/pep-0257/\n",
    "\"\"\""
   ]
  },
  {
   "cell_type": "markdown",
   "metadata": {},
   "source": [
    "## Endentação"
   ]
  },
  {
   "cell_type": "code",
   "execution_count": 2,
   "metadata": {},
   "outputs": [
    {
     "name": "stdout",
     "output_type": "stream",
     "text": [
      "234 / 3 = 78.0\n",
      "654 / 3 = 218.0\n",
      "378 / 3 = 126.0\n",
      "798 / 3 = 266.0\n"
     ]
    }
   ],
   "source": [
    "# Para i na lista 234, 654, 378, 798:\n",
    "for i in [234, 654, 378, 798]:\n",
    "# Se o resto da divisão por 3 for igual a zero:\n",
    "    if i % 3 == 0:\n",
    "    # Imprime...\n",
    "        print (i, '/ 3 =', i / 3)"
   ]
  },
  {
   "cell_type": "markdown",
   "metadata": {},
   "source": [
    "## Controle de Fluxo"
   ]
  },
  {
   "cell_type": "code",
   "execution_count": 7,
   "metadata": {},
   "outputs": [
    {
     "name": "stdin",
     "output_type": "stream",
     "text": [
      "Entre com a temperatura:  0\n"
     ]
    },
    {
     "name": "stdout",
     "output_type": "stream",
     "text": [
      "Frio\n"
     ]
    }
   ],
   "source": [
    "temp = int(input('Entre com a temperatura: '))\n",
    "if temp < 0:\n",
    "    print ('Congelando...')\n",
    "elif (0 <= temp <= 20):\n",
    "    print ('Frio')\n",
    "elif (21 <= temp <= 25):\n",
    "    print ('Normal')\n",
    "elif (26 <= temp <= 35):\n",
    "    print ('Quente')\n",
    "else:\n",
    "    print ('Muito quente!')"
   ]
  },
  {
   "cell_type": "code",
   "execution_count": 9,
   "metadata": {},
   "outputs": [
    {
     "data": {
      "text/plain": [
       "'falso'"
      ]
     },
     "execution_count": 9,
     "metadata": {},
     "output_type": "execute_result"
    }
   ],
   "source": [
    "x = 'verdadeiro' if 1<0 else 'falso'\n",
    "x"
   ]
  },
  {
   "cell_type": "markdown",
   "metadata": {},
   "source": [
    "## Laços"
   ]
  },
  {
   "cell_type": "code",
   "execution_count": 14,
   "metadata": {},
   "outputs": [
    {
     "name": "stdout",
     "output_type": "stream",
     "text": [
      "0\n",
      "1\n",
      "3\n",
      "6\n",
      "10\n",
      "15\n",
      "21\n",
      "28\n",
      "36\n",
      "45\n",
      "55\n",
      "66\n",
      "78\n",
      "91\n",
      "105\n",
      "120\n",
      "136\n",
      "153\n",
      "171\n",
      "190\n",
      "210\n",
      "231\n",
      "253\n",
      "276\n",
      "300\n",
      "325\n",
      "351\n",
      "378\n",
      "406\n",
      "435\n",
      "465\n",
      "496\n",
      "528\n",
      "561\n",
      "595\n",
      "630\n",
      "666\n",
      "703\n",
      "741\n",
      "780\n",
      "820\n",
      "861\n",
      "903\n",
      "946\n",
      "990\n",
      "1035\n",
      "1081\n",
      "1128\n",
      "1176\n",
      "1225\n",
      "1275\n",
      "1326\n",
      "1378\n",
      "1431\n",
      "1485\n",
      "1540\n",
      "1596\n",
      "1653\n",
      "1711\n",
      "1770\n",
      "1830\n",
      "1891\n",
      "1953\n",
      "2016\n",
      "2080\n",
      "2145\n",
      "2211\n",
      "2278\n",
      "2346\n",
      "2415\n",
      "2485\n",
      "2556\n",
      "2628\n",
      "2701\n",
      "2775\n",
      "2850\n",
      "2926\n",
      "3003\n",
      "3081\n",
      "3160\n",
      "3240\n",
      "3321\n",
      "3403\n",
      "3486\n",
      "3570\n",
      "3655\n",
      "3741\n",
      "3828\n",
      "3916\n",
      "4005\n",
      "4095\n",
      "4186\n",
      "4278\n",
      "4371\n",
      "4465\n",
      "4560\n",
      "4656\n",
      "4753\n",
      "4851\n",
      "4950\n",
      "4950\n"
     ]
    }
   ],
   "source": [
    "# usando for\n",
    "s = 0\n",
    "for x in range(0, 100):\n",
    "    s = s + x\n",
    "    print (s)\n",
    "print (s)"
   ]
  },
  {
   "cell_type": "code",
   "execution_count": null,
   "metadata": {},
   "outputs": [],
   "source": [
    "x = 1,2,3,4\n",
    "s = 0,1,3,6"
   ]
  },
  {
   "cell_type": "code",
   "execution_count": 15,
   "metadata": {},
   "outputs": [
    {
     "name": "stdout",
     "output_type": "stream",
     "text": [
      "4950\n"
     ]
    }
   ],
   "source": [
    "# usando while\n",
    "s = 0\n",
    "x = 1\n",
    "while x < 100:\n",
    "    s = s + x\n",
    "    x = x + 1\n",
    "print (s)"
   ]
  },
  {
   "cell_type": "markdown",
   "metadata": {},
   "source": [
    "### Break, Continue e Pass"
   ]
  },
  {
   "cell_type": "code",
   "execution_count": 16,
   "metadata": {},
   "outputs": [
    {
     "name": "stdout",
     "output_type": "stream",
     "text": [
      "10\n",
      "passou\n",
      "9\n",
      "passou\n",
      "8\n",
      "passou\n",
      "7\n",
      "passou\n",
      "6\n",
      "passou\n",
      "5\n",
      "Volta pro inicio\n",
      "4\n"
     ]
    }
   ],
   "source": [
    "parada = 10\n",
    "\n",
    "while parada > 0:\n",
    "    print(parada)\n",
    "    parada -= 1 # parada = parada - 1\n",
    "    if parada == 3:\n",
    "        break\n",
    "    elif parada == 4:\n",
    "        print('Volta pro inicio')\n",
    "        continue\n",
    "    else:\n",
    "        print('passou')\n",
    "        pass\n",
    "else:\n",
    "    print(\"final\")"
   ]
  },
  {
   "cell_type": "markdown",
   "metadata": {},
   "source": [
    "### Match"
   ]
  },
  {
   "cell_type": "code",
   "execution_count": 19,
   "metadata": {},
   "outputs": [
    {
     "ename": "SyntaxError",
     "evalue": "invalid syntax (2627750908.py, line 3)",
     "output_type": "error",
     "traceback": [
      "\u001b[1;36m  Input \u001b[1;32mIn [19]\u001b[1;36m\u001b[0m\n\u001b[1;33m    match status:\u001b[0m\n\u001b[1;37m          ^\u001b[0m\n\u001b[1;31mSyntaxError\u001b[0m\u001b[1;31m:\u001b[0m invalid syntax\n"
     ]
    }
   ],
   "source": [
    "#precisa python 3.10\n",
    "def http_error(status):\n",
    "    match status:\n",
    "        case 400:\n",
    "            return \"Bad request\"\n",
    "        case 404:\n",
    "            return \"Not found\"\n",
    "        case 418:\n",
    "            return \"I'm a teapot\"\n",
    "        case _:\n",
    "            return \"Something's wrong with the internet\""
   ]
  },
  {
   "cell_type": "code",
   "execution_count": 20,
   "metadata": {},
   "outputs": [
    {
     "ename": "NameError",
     "evalue": "name 'http_error' is not defined",
     "output_type": "error",
     "traceback": [
      "\u001b[1;31m---------------------------------------------------------------------------\u001b[0m",
      "\u001b[1;31mNameError\u001b[0m                                 Traceback (most recent call last)",
      "Input \u001b[1;32mIn [20]\u001b[0m, in \u001b[0;36m<cell line: 1>\u001b[1;34m()\u001b[0m\n\u001b[1;32m----> 1\u001b[0m \u001b[43mhttp_error\u001b[49m(\u001b[38;5;241m10\u001b[39m)\n",
      "\u001b[1;31mNameError\u001b[0m: name 'http_error' is not defined"
     ]
    }
   ],
   "source": [
    "http_error(10)"
   ]
  },
  {
   "cell_type": "markdown",
   "metadata": {},
   "source": [
    "## TODO Section"
   ]
  },
  {
   "cell_type": "code",
   "execution_count": 29,
   "metadata": {},
   "outputs": [],
   "source": [
    "some_list = [1.2345, 2.1234, 4.9876, 5.0912, 3.5687]\n",
    "\n",
    "for idx in range(0, len(some_list)):\n",
    "    some_list[idx] = round(some_list[idx], 2);\n",
    "\n",
    "print(some_list)\n",
    "\n",
    "# TODO: utilizando a mesma variável, ajuste cada número para que este contenha apenas 2 números após a casa decimal\n",
    "# Dica: https://docs.python.org/3/library/functions.html#round\n",
    "# Dica: para acessar um elemento de uma lista: lista[indice]"
   ]
  },
  {
   "cell_type": "code",
   "execution_count": 5,
   "metadata": {},
   "outputs": [
    {
     "name": "stdout",
     "output_type": "stream",
     "text": [
      "1\n",
      "1\n",
      "2\n",
      "3\n",
      "5\n",
      "8\n",
      "13\n",
      "21\n",
      "34\n",
      "55\n",
      "89\n",
      "144\n"
     ]
    }
   ],
   "source": [
    "def fibonacci(num=0, last=0):\n",
    "    if num > 100:\n",
    "        return\n",
    "    if num == 0:\n",
    "        print(1)\n",
    "        print(1)\n",
    "        fibonacci(1, 1)\n",
    "    else:\n",
    "        new = num + last\n",
    "        last = num\n",
    "        num = new\n",
    "    \n",
    "        print(num)\n",
    "        fibonacci(num, last)\n",
    "    \n",
    "fibonacci()"
   ]
  },
  {
   "cell_type": "code",
   "execution_count": 31,
   "metadata": {},
   "outputs": [
    {
     "name": "stdout",
     "output_type": "stream",
     "text": [
      "Número par encontrado:  2\n",
      "Número par encontrado:  4\n",
      "Número par encontrado:  6\n",
      "Número par encontrado:  8\n",
      "Número par encontrado:  10\n",
      "Número 12 encontrado\n"
     ]
    }
   ],
   "source": [
    "# TODO: O laço a seguir percorre uma lista do número 2 até o número 15. \n",
    "# Toda vez que um número par for encontrado, faça: print (\"Número par encontrado: \", num) e vá para o início do laço\n",
    "# Ao encontrar o número 12, faça: print (\"Número 12 encontrado\"), e encerre o programa\n",
    "\n",
    "for i in range(2,15):\n",
    "    if i == 12:\n",
    "        print(\"Número 12 encontrado\")\n",
    "        break\n",
    "    elif i % 2 == 0:\n",
    "        print(\"Número par encontrado: \", i)\n",
    "        continue"
   ]
  },
  {
   "cell_type": "markdown",
   "metadata": {},
   "source": [
    "## Tipos de Dados"
   ]
  },
  {
   "cell_type": "code",
   "execution_count": 13,
   "metadata": {},
   "outputs": [
    {
     "name": "stdout",
     "output_type": "stream",
     "text": [
      "int(3.14) = 3\n",
      "float(5) = 5.0\n",
      "5.0 / 2 + 3 =  5.5\n",
      "5/4 ou 5.0/4.0 =  1\n",
      "c = (4+3j)\n",
      "Parte real: 4.0\n",
      "Parte imaginária: 3.0\n",
      "Conjugado: (4-3j)\n"
     ]
    }
   ],
   "source": [
    "print ('int(3.14) =', int(3.14)) # real para inteiro\n",
    "print ('float(5) =', float(5)) # inteiro para real\n",
    "print ('5.0 / 2 + 3 = ', 5.0 / 2 + 3) #Divisão que resulta em real\n",
    "print ('5/4 ou 5.0/4.0 = ',5//4) #divisão sem resto\n",
    "c = 4 + 3j #número complexo\n",
    "print ('c =', c)\n",
    "print ('Parte real:', c.real)\n",
    "print ('Parte imaginária:', c.imag)\n",
    "print ('Conjugado:', c.conjugate())"
   ]
  },
  {
   "cell_type": "markdown",
   "metadata": {},
   "source": [
    "### Strings"
   ]
  },
  {
   "cell_type": "code",
   "execution_count": 18,
   "metadata": {},
   "outputs": [
    {
     "name": "stdout",
     "output_type": "stream",
     "text": [
      "The Camel run away!\n",
      "tamanho de Camel => 5\n",
      "C\n",
      "a\n",
      "m\n",
      "e\n",
      "l\n"
     ]
    }
   ],
   "source": [
    "s = \"Camel\"\n",
    "print ('The ' + s + ' run away!')\n",
    "print ('tamanho de %s => %d' % (s, len(s))) # interpolação\n",
    "for ch in s: print (ch)"
   ]
  },
  {
   "cell_type": "code",
   "execution_count": 24,
   "metadata": {},
   "outputs": [
    {
     "name": "stdout",
     "output_type": "stream",
     "text": [
      "Agora são 08:30.\n",
      "Percentagem: 5.3%, Exponencial:3.14e-01\n",
      "Decimal: 10, Octal: 12, Hexadecimal: a\n"
     ]
    }
   ],
   "source": [
    "print ('Agora são %02d:%02d.' % (8, 30))\n",
    "print ('Percentagem: %.1f%%, Exponencial:%.2e' % (5.333, 0.31415)) #casa decimal e formatação\n",
    "print ('Decimal: %d, Octal: %o, Hexadecimal: %x' % (10, 10, 10)) #bases numéricas"
   ]
  },
  {
   "cell_type": "code",
   "execution_count": null,
   "metadata": {},
   "outputs": [],
   "source": [
    "musicos = [('Page', 'guitarrista', 'Led Zeppelin'),\n",
    "('Fripp', 'guitarrista', 'King Crimson'),\n",
    "('x','y','z')]\n",
    "\n",
    "msg = '{0} é {1} do {2}'\n",
    "\n",
    "for nome, funcao, banda in musicos:\n",
    "    x = msg.format(nome, funcao, banda)\n",
    "    print(msg.format(nome, funcao, banda))\n",
    "    print(type(x))\n",
    "    "
   ]
  },
  {
   "cell_type": "code",
   "execution_count": null,
   "metadata": {},
   "outputs": [],
   "source": [
    "# Caracteres antecipados por \\ são interpretados como caracteres especiais; \n",
    "# se você quer evitar isso, use raw strings, adicionando um r antes da primeira aspas\n",
    "\n",
    "print ('C:\\some\\name')\n",
    "print (r'C:\\some\\name')"
   ]
  },
  {
   "cell_type": "code",
   "execution_count": 4,
   "metadata": {},
   "outputs": [
    {
     "data": {
      "text/plain": [
       "'10 Reais valem US$1.9417475728155338'"
      ]
     },
     "execution_count": 4,
     "metadata": {},
     "output_type": "execute_result"
    }
   ],
   "source": [
    "quantidade = 10\n",
    "cambio = 5.15\n",
    "moeda = \"Reais\"\n",
    "result = f\"{quantidade} {moeda} valem US${quantidade / cambio}\"\n",
    "#caso queira limitar a quantidade de números após a vírgula\n",
    "#result = f\"{quantidade} {moeda} valem US${quantidade / cambio:.2f}\"\n",
    "result"
   ]
  },
  {
   "cell_type": "markdown",
   "metadata": {},
   "source": [
    "## Listas"
   ]
  },
  {
   "cell_type": "code",
   "execution_count": null,
   "metadata": {},
   "outputs": [],
   "source": [
    "# listas são objetos heterogêneos, ou seja, \n",
    "# podem contem elementos de qualquer tipo,\n",
    "# inclusive outras listas\n",
    "\n",
    "integer_list = [1, 2, 3]\n",
    "heterogeneous_list = [\"string\", 0.1, True]\n",
    "list_of_lists = [ integer_list, heterogeneous_list, [] ]\n",
    "\n",
    "print(integer_list)\n",
    "print(heterogeneous_list)\n",
    "print(list_of_lists)"
   ]
  },
  {
   "cell_type": "code",
   "execution_count": null,
   "metadata": {},
   "outputs": [],
   "source": [
    "bandas = ['Queen','Led Zeppelin','Kansas','Europe','Guns N Roses']\n",
    "\n",
    "for banda in bandas:\n",
    "    print (banda)\n",
    "    \n",
    "bandas.append('Bon Jovi') #adiciona ao fim da lista - inplace\n",
    "bandas.remove('Europe') #remove\n",
    "bandas.sort() #ordena\n",
    "\n",
    "print (bandas)"
   ]
  },
  {
   "cell_type": "code",
   "execution_count": null,
   "metadata": {},
   "outputs": [],
   "source": [
    "for i, banda in enumerate(bandas): \n",
    "    print (i + 1, '=>', banda)\n",
    "    \n",
    "#filas e pilhas\n",
    "while bandas:\n",
    "    print ('Saiu', bandas.pop(0), ', faltam', len(bandas))"
   ]
  },
  {
   "cell_type": "markdown",
   "metadata": {},
   "source": [
    "## Tuplas"
   ]
  },
  {
   "cell_type": "code",
   "execution_count": 25,
   "metadata": {},
   "outputs": [
    {
     "name": "stdout",
     "output_type": "stream",
     "text": [
      "(5, 6)\n",
      "15\n",
      "50\n"
     ]
    }
   ],
   "source": [
    "def soma_e_produto(x, y):\n",
    "    return (x + y),(x * y)\n",
    "sp = soma_e_produto(2, 3) # igual (5, 6)\n",
    "s, p = soma_e_produto(5, 10) # s é 15, p é 50\n",
    "print(sp)\n",
    "print(s)\n",
    "print(p)"
   ]
  },
  {
   "cell_type": "markdown",
   "metadata": {},
   "source": [
    "## Dicionários"
   ]
  },
  {
   "cell_type": "code",
   "execution_count": 26,
   "metadata": {},
   "outputs": [
    {
     "name": "stdout",
     "output_type": "stream",
     "text": [
      "Mustang\n",
      "1964\n"
     ]
    }
   ],
   "source": [
    "carros = {'marca':'Ford','modelo':'Mustang','Ano':1964} #cria um dicionário\n",
    "print(carros['modelo']) #imprime o valor da chave 'modelo'\n",
    "print(carros.get('Ano')) #imprime usando método get\n",
    "carros['Ano'] = 2018"
   ]
  },
  {
   "cell_type": "code",
   "execution_count": 27,
   "metadata": {},
   "outputs": [
    {
     "name": "stdout",
     "output_type": "stream",
     "text": [
      "marca Ford\n",
      "modelo Mustang\n",
      "Ano 2018\n"
     ]
    }
   ],
   "source": [
    "for x,y in carros.items():#imprimindo keys e values\n",
    "    print(x,y)"
   ]
  },
  {
   "cell_type": "code",
   "execution_count": 28,
   "metadata": {},
   "outputs": [
    {
     "name": "stdout",
     "output_type": "stream",
     "text": [
      "marca Ford\n",
      "modelo Mustang\n",
      "Ano 2018\n",
      "cor preto\n"
     ]
    }
   ],
   "source": [
    "carros['cor'] = 'preto' #inserindo nova key e value\n",
    "\n",
    "for x,y in carros.items():#repetindo após inserção\n",
    "    print(x,y)"
   ]
  },
  {
   "cell_type": "code",
   "execution_count": 29,
   "metadata": {},
   "outputs": [
    {
     "name": "stdout",
     "output_type": "stream",
     "text": [
      "{'marca': 'Ford', 'modelo': 'Mustang', 'cor': 'preto'}\n"
     ]
    }
   ],
   "source": [
    "del carros['Ano'] #apagando key e value  - \n",
    "#pode ser usado os métodos pop e popitem - testar\n",
    "print (carros) #imprime dicionário"
   ]
  },
  {
   "cell_type": "code",
   "execution_count": 30,
   "metadata": {},
   "outputs": [
    {
     "name": "stdout",
     "output_type": "stream",
     "text": [
      "{}\n"
     ]
    }
   ],
   "source": [
    "#Apagar dicionário\n",
    "#del carros\n",
    "#print(carros)\n",
    "#esvaziar dicionário\n",
    "carros.clear()\n",
    "print(carros)"
   ]
  },
  {
   "cell_type": "code",
   "execution_count": 31,
   "metadata": {},
   "outputs": [
    {
     "name": "stdout",
     "output_type": "stream",
     "text": [
      "{'marca': ['Ford', 'FIAT', 'Wolksvagem'], 'modelo': ['Mustang', 'Palio', 'Gol'], 'Ano': [1964, 2009, 1990]}\n"
     ]
    }
   ],
   "source": [
    "#criando a partir de um construtor\n",
    "carros = dict(marca=['Ford','FIAT','Wolksvagem'],modelo=['Mustang','Palio','Gol'],Ano=[1964,2009,1990])\n",
    "print(carros)"
   ]
  },
  {
   "cell_type": "markdown",
   "metadata": {},
   "source": [
    "## DefaultDict"
   ]
  },
  {
   "cell_type": "code",
   "execution_count": 32,
   "metadata": {},
   "outputs": [],
   "source": [
    "document = 'A Wikipédia é um projeto de enciclopédia colaborativa, universal e multilíngue estabelecido na internet sob o princípio wiki. \\\n",
    "Tem como propósito fornecer um conteúdo livre, objetivo e verificável, que todos possam editar e melhorar. O projeto é definido pelos \\\n",
    "princípios fundadores. O conteúdo é disponibilizado sob a licença Creative Commons BY-SA e pode ser copiado e reutilizado sob a mesma \\\n",
    "licença — mesmo para fins comerciais — desde que respeitando os termos e condições de uso.'\n"
   ]
  },
  {
   "cell_type": "code",
   "execution_count": 47,
   "metadata": {},
   "outputs": [],
   "source": [
    "import re\n",
    "word_counts = {}\n",
    "for word in document.split(' '):\n",
    "    sanitized_word = re.sub(r'[,.]', '', word);\n",
    "    if sanitized_word in word_counts:\n",
    "        word_counts[sanitized_word] += 1\n",
    "    else:\n",
    "        word_counts[sanitized_word] = 1"
   ]
  },
  {
   "cell_type": "code",
   "execution_count": 48,
   "metadata": {},
   "outputs": [
    {
     "data": {
      "text/plain": [
       "{'A': 1,\n",
       " 'Wikipédia': 1,\n",
       " 'é': 3,\n",
       " 'um': 2,\n",
       " 'projeto': 2,\n",
       " 'de': 2,\n",
       " 'enciclopédia': 1,\n",
       " 'colaborativa': 1,\n",
       " 'universal': 1,\n",
       " 'e': 6,\n",
       " 'multilíngue': 1,\n",
       " 'estabelecido': 1,\n",
       " 'na': 1,\n",
       " 'internet': 1,\n",
       " 'sob': 3,\n",
       " 'o': 1,\n",
       " 'princípio': 1,\n",
       " 'wiki': 1,\n",
       " 'Tem': 1,\n",
       " 'como': 1,\n",
       " 'propósito': 1,\n",
       " 'fornecer': 1,\n",
       " 'conteúdo': 2,\n",
       " 'livre': 1,\n",
       " 'objetivo': 1,\n",
       " 'verificável': 1,\n",
       " 'que': 2,\n",
       " 'todos': 1,\n",
       " 'possam': 1,\n",
       " 'editar': 1,\n",
       " 'melhorar': 1,\n",
       " 'O': 2,\n",
       " 'definido': 1,\n",
       " 'pelos': 1,\n",
       " 'princípios': 1,\n",
       " 'fundadores': 1,\n",
       " 'disponibilizado': 1,\n",
       " 'a': 2,\n",
       " 'licença': 2,\n",
       " 'Creative': 1,\n",
       " 'Commons': 1,\n",
       " 'BY-SA': 1,\n",
       " 'pode': 1,\n",
       " 'ser': 1,\n",
       " 'copiado': 1,\n",
       " 'reutilizado': 1,\n",
       " 'mesma': 1,\n",
       " '—': 2,\n",
       " 'mesmo': 1,\n",
       " 'para': 1,\n",
       " 'fins': 1,\n",
       " 'comerciais': 1,\n",
       " 'desde': 1,\n",
       " 'respeitando': 1,\n",
       " 'os': 1,\n",
       " 'termos': 1,\n",
       " 'condições': 1,\n",
       " 'uso': 1}"
      ]
     },
     "execution_count": 48,
     "metadata": {},
     "output_type": "execute_result"
    }
   ],
   "source": [
    "word_counts"
   ]
  },
  {
   "cell_type": "code",
   "execution_count": 50,
   "metadata": {},
   "outputs": [],
   "source": [
    "from collections import defaultdict\n",
    "\n",
    "word_counts = defaultdict(int) # int() produces 0\n",
    "for word in document.split(' '):\n",
    "    word_counts[word] += 1"
   ]
  },
  {
   "cell_type": "code",
   "execution_count": 51,
   "metadata": {},
   "outputs": [
    {
     "data": {
      "text/plain": [
       "defaultdict(int,\n",
       "            {'A': 1,\n",
       "             'Wikipédia': 1,\n",
       "             'é': 3,\n",
       "             'um': 2,\n",
       "             'projeto': 2,\n",
       "             'de': 2,\n",
       "             'enciclopédia': 1,\n",
       "             'colaborativa,': 1,\n",
       "             'universal': 1,\n",
       "             'e': 6,\n",
       "             'multilíngue': 1,\n",
       "             'estabelecido': 1,\n",
       "             'na': 1,\n",
       "             'internet': 1,\n",
       "             'sob': 3,\n",
       "             'o': 1,\n",
       "             'princípio': 1,\n",
       "             'wiki.': 1,\n",
       "             'Tem': 1,\n",
       "             'como': 1,\n",
       "             'propósito': 1,\n",
       "             'fornecer': 1,\n",
       "             'conteúdo': 2,\n",
       "             'livre,': 1,\n",
       "             'objetivo': 1,\n",
       "             'verificável,': 1,\n",
       "             'que': 2,\n",
       "             'todos': 1,\n",
       "             'possam': 1,\n",
       "             'editar': 1,\n",
       "             'melhorar.': 1,\n",
       "             'O': 2,\n",
       "             'definido': 1,\n",
       "             'pelos': 1,\n",
       "             'princípios': 1,\n",
       "             'fundadores.': 1,\n",
       "             'disponibilizado': 1,\n",
       "             'a': 2,\n",
       "             'licença': 2,\n",
       "             'Creative': 1,\n",
       "             'Commons': 1,\n",
       "             'BY-SA': 1,\n",
       "             'pode': 1,\n",
       "             'ser': 1,\n",
       "             'copiado': 1,\n",
       "             'reutilizado': 1,\n",
       "             'mesma': 1,\n",
       "             '—': 2,\n",
       "             'mesmo': 1,\n",
       "             'para': 1,\n",
       "             'fins': 1,\n",
       "             'comerciais': 1,\n",
       "             'desde': 1,\n",
       "             'respeitando': 1,\n",
       "             'os': 1,\n",
       "             'termos': 1,\n",
       "             'condições': 1,\n",
       "             'uso.': 1})"
      ]
     },
     "execution_count": 51,
     "metadata": {},
     "output_type": "execute_result"
    }
   ],
   "source": [
    "word_counts"
   ]
  },
  {
   "cell_type": "markdown",
   "metadata": {},
   "source": [
    "## Diferença entre dict e default dict"
   ]
  },
  {
   "cell_type": "code",
   "execution_count": 52,
   "metadata": {},
   "outputs": [
    {
     "name": "stdout",
     "output_type": "stream",
     "text": [
      "1\n"
     ]
    },
    {
     "ename": "KeyError",
     "evalue": "'key3'",
     "output_type": "error",
     "traceback": [
      "\u001b[1;31m---------------------------------------------------------------------------\u001b[0m",
      "\u001b[1;31mKeyError\u001b[0m                                  Traceback (most recent call last)",
      "Input \u001b[1;32mIn [52]\u001b[0m, in \u001b[0;36m<cell line: 3>\u001b[1;34m()\u001b[0m\n\u001b[0;32m      1\u001b[0m d \u001b[38;5;241m=\u001b[39m {\u001b[38;5;124m'\u001b[39m\u001b[38;5;124mkey1\u001b[39m\u001b[38;5;124m'\u001b[39m:\u001b[38;5;241m1\u001b[39m, \u001b[38;5;124m'\u001b[39m\u001b[38;5;124mkey2\u001b[39m\u001b[38;5;124m'\u001b[39m:\u001b[38;5;241m2\u001b[39m}\n\u001b[0;32m      2\u001b[0m \u001b[38;5;28mprint\u001b[39m(d[\u001b[38;5;124m'\u001b[39m\u001b[38;5;124mkey1\u001b[39m\u001b[38;5;124m'\u001b[39m])\n\u001b[1;32m----> 3\u001b[0m \u001b[38;5;28mprint\u001b[39m(\u001b[43md\u001b[49m\u001b[43m[\u001b[49m\u001b[38;5;124;43m'\u001b[39;49m\u001b[38;5;124;43mkey3\u001b[39;49m\u001b[38;5;124;43m'\u001b[39;49m\u001b[43m]\u001b[49m)\n",
      "\u001b[1;31mKeyError\u001b[0m: 'key3'"
     ]
    }
   ],
   "source": [
    "d = {'key1':1, 'key2':2}\n",
    "print(d['key1'])\n",
    "print(d['key3'])"
   ]
  },
  {
   "cell_type": "code",
   "execution_count": 53,
   "metadata": {},
   "outputs": [
    {
     "name": "stdout",
     "output_type": "stream",
     "text": [
      "1\n",
      "2\n",
      "0\n"
     ]
    }
   ],
   "source": [
    "from collections import defaultdict\n",
    "\n",
    "d = defaultdict(int)\n",
    "d[\"key1\"] = 1\n",
    "d[\"key2\"] = 2\n",
    " \n",
    "print(d[\"key1\"])\n",
    "print(d[\"key2\"])\n",
    "print(d[\"key3\"])"
   ]
  },
  {
   "cell_type": "markdown",
   "metadata": {},
   "source": [
    "## Counter"
   ]
  },
  {
   "cell_type": "code",
   "execution_count": 54,
   "metadata": {},
   "outputs": [
    {
     "data": {
      "text/plain": [
       "Counter({0: 2, 1: 1, 2: 1})"
      ]
     },
     "execution_count": 54,
     "metadata": {},
     "output_type": "execute_result"
    }
   ],
   "source": [
    "from collections import Counter\n",
    "c = Counter([0, 1, 2, 0]) \n",
    "c"
   ]
  },
  {
   "cell_type": "code",
   "execution_count": 55,
   "metadata": {},
   "outputs": [
    {
     "data": {
      "text/plain": [
       "Counter({'A': 1,\n",
       "         'Wikipédia': 1,\n",
       "         'é': 3,\n",
       "         'um': 2,\n",
       "         'projeto': 2,\n",
       "         'de': 2,\n",
       "         'enciclopédia': 1,\n",
       "         'colaborativa,': 1,\n",
       "         'universal': 1,\n",
       "         'e': 6,\n",
       "         'multilíngue': 1,\n",
       "         'estabelecido': 1,\n",
       "         'na': 1,\n",
       "         'internet': 1,\n",
       "         'sob': 3,\n",
       "         'o': 1,\n",
       "         'princípio': 1,\n",
       "         'wiki.': 1,\n",
       "         'Tem': 1,\n",
       "         'como': 1,\n",
       "         'propósito': 1,\n",
       "         'fornecer': 1,\n",
       "         'conteúdo': 2,\n",
       "         'livre,': 1,\n",
       "         'objetivo': 1,\n",
       "         'verificável,': 1,\n",
       "         'que': 2,\n",
       "         'todos': 1,\n",
       "         'possam': 1,\n",
       "         'editar': 1,\n",
       "         'melhorar.': 1,\n",
       "         'O': 2,\n",
       "         'definido': 1,\n",
       "         'pelos': 1,\n",
       "         'princípios': 1,\n",
       "         'fundadores.': 1,\n",
       "         'disponibilizado': 1,\n",
       "         'a': 2,\n",
       "         'licença': 2,\n",
       "         'Creative': 1,\n",
       "         'Commons': 1,\n",
       "         'BY-SA': 1,\n",
       "         'pode': 1,\n",
       "         'ser': 1,\n",
       "         'copiado': 1,\n",
       "         'reutilizado': 1,\n",
       "         'mesma': 1,\n",
       "         '—': 2,\n",
       "         'mesmo': 1,\n",
       "         'para': 1,\n",
       "         'fins': 1,\n",
       "         'comerciais': 1,\n",
       "         'desde': 1,\n",
       "         'respeitando': 1,\n",
       "         'os': 1,\n",
       "         'termos': 1,\n",
       "         'condições': 1,\n",
       "         'uso.': 1})"
      ]
     },
     "execution_count": 55,
     "metadata": {},
     "output_type": "execute_result"
    }
   ],
   "source": [
    "word_counts_counter = Counter(document.split(' '))\n",
    "word_counts_counter"
   ]
  },
  {
   "cell_type": "markdown",
   "metadata": {},
   "source": [
    "## TODO Section"
   ]
  },
  {
   "cell_type": "markdown",
   "metadata": {},
   "source": [
    "### 1)\n",
    "Escreva um programa que vá de 0 até 100. Toda vez que encontrar um número divisível por 5, \n",
    "adicione esse número numa lista. Ao final, ordene a lista de forma descendente"
   ]
  },
  {
   "cell_type": "code",
   "execution_count": 84,
   "metadata": {},
   "outputs": [
    {
     "name": "stdout",
     "output_type": "stream",
     "text": [
      "[100, 95, 90, 85, 80, 75, 70, 65, 60, 55, 50, 45, 40, 35, 30, 25, 20, 15, 10, 5, 0]\n"
     ]
    }
   ],
   "source": [
    "# Resposta 1\n",
    "lista = []\n",
    "for i in range(0, 101):\n",
    "    if i % 5 == 0:\n",
    "        lista.append(i)\n",
    "        \n",
    "lista.sort(reverse=True)\n",
    "print(lista)\n",
    "    "
   ]
  },
  {
   "cell_type": "markdown",
   "metadata": {},
   "source": [
    "### 2)\n",
    "Conte a quantidade de cada caracter presente no texto abaixo:"
   ]
  },
  {
   "cell_type": "markdown",
   "metadata": {},
   "source": [
    "### Texto\n",
    "\n",
    "Brasil, oficialmente República Federativa do Brasil é o maior país da América do Sul e da região da América Latina, sendo o quinto maior do mundo em área territorial (equivalente a 47 porcento do território sul-americano) e sexto em população (com mais de 200 milhões de habitantes). É o único país na América onde se fala majoritariamente a língua portuguesa e o maior país lusófono do planeta, além de ser uma das nações mais multiculturais e etnicamente diversas, em decorrência da forte imigração oriunda de variados locais do mundo."
   ]
  },
  {
   "cell_type": "code",
   "execution_count": 99,
   "metadata": {},
   "outputs": [
    {
     "data": {
      "text/plain": [
       "[(' ', 88), ('a', 56), ('e', 43), ('o', 40), ('i', 38)]"
      ]
     },
     "execution_count": 99,
     "metadata": {},
     "output_type": "execute_result"
    }
   ],
   "source": [
    "# Resposta 2\n",
    "from collections import Counter\n",
    "text = 'Brasil, oficialmente República Federativa do Brasil é o maior país da América do Sul e da região da América Latina, sendo o quinto maior do mundo em área territorial (equivalente a 47 porcento do território sul-americano) e sexto em população (com mais de 200 milhões de habitantes). É o único país na América onde se fala majoritariamente a língua portuguesa e o maior país lusófono do planeta, além de ser uma das nações mais multiculturais e etnicamente diversas, em decorrência da forte imigração oriunda de variados locais do mundo.'\n",
    "word_counts_counter = Counter(text)\n",
    "word_counts_counter.most_common(5)"
   ]
  },
  {
   "cell_type": "markdown",
   "metadata": {},
   "source": [
    "### 3)\n",
    "Solicite ao usuário uma string e um número inteiro. Armazene ambos em variáveis. Remova da string os caracteres de 0 até n e imprima a string resultante"
   ]
  },
  {
   "cell_type": "code",
   "execution_count": 98,
   "metadata": {},
   "outputs": [
    {
     "ename": "KeyboardInterrupt",
     "evalue": "Interrupted by user",
     "output_type": "error",
     "traceback": [
      "\u001b[1;31m---------------------------------------------------------------------------\u001b[0m",
      "\u001b[1;31mKeyboardInterrupt\u001b[0m                         Traceback (most recent call last)",
      "Input \u001b[1;32mIn [98]\u001b[0m, in \u001b[0;36m<cell line: 19>\u001b[1;34m()\u001b[0m\n\u001b[0;32m     13\u001b[0m \u001b[38;5;66;03m#    if number > len(string) or number <= 0:\u001b[39;00m\n\u001b[0;32m     14\u001b[0m \u001b[38;5;66;03m#        print('Colabora ae, né...')\u001b[39;00m\n\u001b[0;32m     15\u001b[0m \u001b[38;5;66;03m#        return get_data()\u001b[39;00m\n\u001b[0;32m     17\u001b[0m     \u001b[38;5;28;01mreturn\u001b[39;00m string,number\n\u001b[1;32m---> 19\u001b[0m string,number \u001b[38;5;241m=\u001b[39m \u001b[43mget_data\u001b[49m\u001b[43m(\u001b[49m\u001b[43m)\u001b[49m\n\u001b[0;32m     20\u001b[0m string[number:]\n",
      "Input \u001b[1;32mIn [98]\u001b[0m, in \u001b[0;36mget_data\u001b[1;34m()\u001b[0m\n\u001b[0;32m      2\u001b[0m \u001b[38;5;28;01mdef\u001b[39;00m \u001b[38;5;21mget_data\u001b[39m():\n\u001b[1;32m----> 4\u001b[0m     string \u001b[38;5;241m=\u001b[39m \u001b[38;5;28;43minput\u001b[39;49m\u001b[43m(\u001b[49m\u001b[38;5;124;43m\"\u001b[39;49m\u001b[38;5;124;43mInforme uma string: \u001b[39;49m\u001b[38;5;124;43m\"\u001b[39;49m\u001b[43m)\u001b[49m\n\u001b[0;32m      5\u001b[0m     \u001b[38;5;28;01mwhile\u001b[39;00m \u001b[38;5;129;01mnot\u001b[39;00m string:\n\u001b[0;32m      6\u001b[0m         \u001b[38;5;28mprint\u001b[39m(\u001b[38;5;124m'\u001b[39m\u001b[38;5;124mColabora ae, né... Informe uma string maior que 0 caracteres\u001b[39m\u001b[38;5;124m'\u001b[39m)\n",
      "File \u001b[1;32mC:\\ProgramData\\Anaconda3\\lib\\site-packages\\ipykernel\\kernelbase.py:1075\u001b[0m, in \u001b[0;36mKernel.raw_input\u001b[1;34m(self, prompt)\u001b[0m\n\u001b[0;32m   1071\u001b[0m \u001b[38;5;28;01mif\u001b[39;00m \u001b[38;5;129;01mnot\u001b[39;00m \u001b[38;5;28mself\u001b[39m\u001b[38;5;241m.\u001b[39m_allow_stdin:\n\u001b[0;32m   1072\u001b[0m     \u001b[38;5;28;01mraise\u001b[39;00m StdinNotImplementedError(\n\u001b[0;32m   1073\u001b[0m         \u001b[38;5;124m\"\u001b[39m\u001b[38;5;124mraw_input was called, but this frontend does not support input requests.\u001b[39m\u001b[38;5;124m\"\u001b[39m\n\u001b[0;32m   1074\u001b[0m     )\n\u001b[1;32m-> 1075\u001b[0m \u001b[38;5;28;01mreturn\u001b[39;00m \u001b[38;5;28;43mself\u001b[39;49m\u001b[38;5;241;43m.\u001b[39;49m\u001b[43m_input_request\u001b[49m\u001b[43m(\u001b[49m\n\u001b[0;32m   1076\u001b[0m \u001b[43m    \u001b[49m\u001b[38;5;28;43mstr\u001b[39;49m\u001b[43m(\u001b[49m\u001b[43mprompt\u001b[49m\u001b[43m)\u001b[49m\u001b[43m,\u001b[49m\n\u001b[0;32m   1077\u001b[0m \u001b[43m    \u001b[49m\u001b[38;5;28;43mself\u001b[39;49m\u001b[38;5;241;43m.\u001b[39;49m\u001b[43m_parent_ident\u001b[49m\u001b[43m[\u001b[49m\u001b[38;5;124;43m\"\u001b[39;49m\u001b[38;5;124;43mshell\u001b[39;49m\u001b[38;5;124;43m\"\u001b[39;49m\u001b[43m]\u001b[49m\u001b[43m,\u001b[49m\n\u001b[0;32m   1078\u001b[0m \u001b[43m    \u001b[49m\u001b[38;5;28;43mself\u001b[39;49m\u001b[38;5;241;43m.\u001b[39;49m\u001b[43mget_parent\u001b[49m\u001b[43m(\u001b[49m\u001b[38;5;124;43m\"\u001b[39;49m\u001b[38;5;124;43mshell\u001b[39;49m\u001b[38;5;124;43m\"\u001b[39;49m\u001b[43m)\u001b[49m\u001b[43m,\u001b[49m\n\u001b[0;32m   1079\u001b[0m \u001b[43m    \u001b[49m\u001b[43mpassword\u001b[49m\u001b[38;5;241;43m=\u001b[39;49m\u001b[38;5;28;43;01mFalse\u001b[39;49;00m\u001b[43m,\u001b[49m\n\u001b[0;32m   1080\u001b[0m \u001b[43m\u001b[49m\u001b[43m)\u001b[49m\n",
      "File \u001b[1;32mC:\\ProgramData\\Anaconda3\\lib\\site-packages\\ipykernel\\kernelbase.py:1120\u001b[0m, in \u001b[0;36mKernel._input_request\u001b[1;34m(self, prompt, ident, parent, password)\u001b[0m\n\u001b[0;32m   1117\u001b[0m             \u001b[38;5;28;01mbreak\u001b[39;00m\n\u001b[0;32m   1118\u001b[0m \u001b[38;5;28;01mexcept\u001b[39;00m \u001b[38;5;167;01mKeyboardInterrupt\u001b[39;00m:\n\u001b[0;32m   1119\u001b[0m     \u001b[38;5;66;03m# re-raise KeyboardInterrupt, to truncate traceback\u001b[39;00m\n\u001b[1;32m-> 1120\u001b[0m     \u001b[38;5;28;01mraise\u001b[39;00m \u001b[38;5;167;01mKeyboardInterrupt\u001b[39;00m(\u001b[38;5;124m\"\u001b[39m\u001b[38;5;124mInterrupted by user\u001b[39m\u001b[38;5;124m\"\u001b[39m) \u001b[38;5;28;01mfrom\u001b[39;00m \u001b[38;5;28mNone\u001b[39m\n\u001b[0;32m   1121\u001b[0m \u001b[38;5;28;01mexcept\u001b[39;00m \u001b[38;5;167;01mException\u001b[39;00m:\n\u001b[0;32m   1122\u001b[0m     \u001b[38;5;28mself\u001b[39m\u001b[38;5;241m.\u001b[39mlog\u001b[38;5;241m.\u001b[39mwarning(\u001b[38;5;124m\"\u001b[39m\u001b[38;5;124mInvalid Message:\u001b[39m\u001b[38;5;124m\"\u001b[39m, exc_info\u001b[38;5;241m=\u001b[39m\u001b[38;5;28;01mTrue\u001b[39;00m)\n",
      "\u001b[1;31mKeyboardInterrupt\u001b[0m: Interrupted by user"
     ]
    }
   ],
   "source": [
    "# Resposta 3\n",
    "def get_data():\n",
    "    \n",
    "    string = input(\"Informe uma string: \")\n",
    "    while not string:\n",
    "        print('Colabora ae, né... Informe uma string maior que 0 caracteres')\n",
    "        string = input(\"Informe uma string: \")\n",
    "    \n",
    "    number = int(input(\"Informe um número inteiro: \"))\n",
    "    while number <= 0 or number > len(string):\n",
    "        print('Colabora ae, né... Informe um número > 0 <= ', len(string))\n",
    "        number = int(input(\"Informe um número inteiro: \"))\n",
    "#    if number > len(string) or number <= 0:\n",
    "#        print('Colabora ae, né...')\n",
    "#        return get_data()\n",
    "    \n",
    "    return string,number\n",
    "\n",
    "string,number = get_data()\n",
    "string[number:]"
   ]
  },
  {
   "cell_type": "code",
   "execution_count": null,
   "metadata": {},
   "outputs": [],
   "source": []
  }
 ],
 "metadata": {
  "kernelspec": {
   "display_name": "Python 3 (ipykernel)",
   "language": "python",
   "name": "python3"
  },
  "language_info": {
   "codemirror_mode": {
    "name": "ipython",
    "version": 3
   },
   "file_extension": ".py",
   "mimetype": "text/x-python",
   "name": "python",
   "nbconvert_exporter": "python",
   "pygments_lexer": "ipython3",
   "version": "3.9.12"
  }
 },
 "nbformat": 4,
 "nbformat_minor": 4
}
