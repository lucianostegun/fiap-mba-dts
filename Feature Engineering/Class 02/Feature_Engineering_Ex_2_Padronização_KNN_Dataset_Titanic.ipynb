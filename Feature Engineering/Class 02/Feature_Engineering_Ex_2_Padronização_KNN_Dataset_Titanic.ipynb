{
  "nbformat": 4,
  "nbformat_minor": 0,
  "metadata": {
    "colab": {
      "provenance": []
    },
    "kernelspec": {
      "name": "python3",
      "display_name": "Python 3"
    }
  },
  "cells": [
    {
      "cell_type": "code",
      "metadata": {
        "id": "fQRV2TqlGP8W"
      },
      "source": [
        "import pandas as pd\n",
        "import seaborn as sb\n",
        "import matplotlib.pyplot as plt\n",
        "\n",
        "from sklearn.neighbors import KNeighborsClassifier\n",
        "from sklearn.model_selection import train_test_split\n",
        "from sklearn.metrics import classification_report, ConfusionMatrixDisplay, accuracy_score, confusion_matrix\n",
        "from sklearn.preprocessing import StandardScaler, MinMaxScaler, RobustScaler"
      ],
      "execution_count": null,
      "outputs": []
    },
    {
      "cell_type": "markdown",
      "metadata": {
        "id": "w3cIHBzGISk4"
      },
      "source": [
        "A primeira coisa que vamos fazer é ler o conjunto de dados usando a função read_csv() dos Pandas.\n",
        "Colocaremos esses dados em um DataFrame do Pandas, chamado \"titanic\", e nomearemos cada uma das colunas."
      ]
    },
    {
      "cell_type": "code",
      "metadata": {
        "id": "sZJVwsJaIbQo"
      },
      "source": [
        "url = 'https://raw.githubusercontent.com/BigDataGal/Python-for-Data-Science/master/titanic-train.csv'\n",
        "titanic = pd.read_csv(url)\n",
        "titanic.columns = ['PassengerId','Survived','Pclass','Name','Sex','Age','SibSp','Parch','Ticket','Fare','Cabin','Embarked']\n",
        "titanic.head()"
      ],
      "execution_count": null,
      "outputs": []
    },
    {
      "cell_type": "markdown",
      "metadata": {
        "id": "tgOskgf_Iqyx"
      },
      "source": [
        "**VARIABLE DESCRIPTION**\n",
        " * **Survived** - Survival (0 = No; 1 = Yes);\n",
        " * **Pclass** - Passenger Class (1 = 1st; 2 = 2nd; 3 = 3rd);\n",
        " * **Name** - Name;\n",
        " * **Sex** - Sex;\n",
        " * **Age** - Age;\n",
        " * **SibSp** - Number of Siblings/Spouses Aboard;\n",
        " * **Parch** - Number of Parents/Children Aboard;\n",
        " * **Ticket** - Ticket Number;\n",
        " * **Fare** - Passenger Fare (British pound);\n",
        " * **Cabin** - Cabin;\n",
        " * **Embarked** - Port of Embarkation (C = Cherbourg; Q = Queenstown; S = Southampton);"
      ]
    },
    {
      "cell_type": "markdown",
      "metadata": {
        "id": "alP9u5TdJqEt"
      },
      "source": [
        "Como estamos construindo um modelo para prever a sobrevivência de passageiros do Titanic, nosso alvo será a variável \"Survived\" do dataframe titanic.\n",
        "Para ter certeza de que é uma variável binária, vamos usar a função countplot () do Seaborn.\n"
      ]
    },
    {
      "cell_type": "code",
      "metadata": {
        "id": "SgX9EL_NJmGQ"
      },
      "source": [
        "sb.countplot(x='Survived',data=titanic, palette='hls')"
      ],
      "execution_count": null,
      "outputs": []
    },
    {
      "cell_type": "markdown",
      "metadata": {
        "id": "ZmZQwlHGL01s"
      },
      "source": [
        "###Checking for missing values\n",
        "É fácil checar missing values usando método isnull() com o método sum(), o número retornado condiz com a quantidade True para o teste, ou seja, quantidade de valores nulos nas variáveis"
      ]
    },
    {
      "cell_type": "code",
      "metadata": {
        "id": "WA59l6qDI5s5"
      },
      "source": [
        "titanic.isnull().sum()"
      ],
      "execution_count": null,
      "outputs": []
    },
    {
      "cell_type": "code",
      "metadata": {
        "id": "hQIat-k0I2W4"
      },
      "source": [
        "titanic.info()"
      ],
      "execution_count": null,
      "outputs": []
    },
    {
      "cell_type": "markdown",
      "metadata": {
        "id": "L4qr_5SvMY_v"
      },
      "source": [
        "Ok, então existem 891 linhas no dataframe. Cabin é quase todo composto por missing values, então podemos eliminar essa variável completamente! Mas e quanto à idade? A age parece um preditor relevante para a sobrevivência, certo? Nós queremos manter as variáveis, mas tem 177 missing values. Precisamos encontrar uma maneira de nos aproximarmos desses valores em falta!"
      ]
    },
    {
      "cell_type": "markdown",
      "metadata": {
        "id": "geBQQywNMgrY"
      },
      "source": [
        "## Lidando com missing values\n",
        "#### Removendo missing values\n",
        "Vamos além dos missing values... Vamos descartar todas as variáveis que não são relevantes para a predição de Survived."
      ]
    },
    {
      "cell_type": "code",
      "metadata": {
        "id": "w-btOkhIMbbc"
      },
      "source": [
        "titanic.drop(['PassengerId','Name','Ticket','Cabin'],axis=1,inplace=True)\n"
      ],
      "execution_count": null,
      "outputs": []
    },
    {
      "cell_type": "code",
      "metadata": {
        "id": "ElfTHMY_M1rT"
      },
      "source": [
        "titanic.head()"
      ],
      "execution_count": null,
      "outputs": []
    },
    {
      "cell_type": "code",
      "metadata": {
        "id": "yRXo1EoVaGpJ"
      },
      "source": [
        "titanic.isnull().sum()"
      ],
      "execution_count": null,
      "outputs": []
    },
    {
      "cell_type": "markdown",
      "metadata": {
        "id": "agaCXkGaNmn1"
      },
      "source": [
        "Agora, o dataframe foi reduzido para apenas variáveis relevantes, mas agora precisamos lidar com os valores ausentes na variável age.\n",
        "\n",
        "## Imputing missing values\n",
        "Vejamos como a idade do passageiro está relacionada à sua classe como passageiro no barco."
      ]
    },
    {
      "cell_type": "code",
      "metadata": {
        "id": "2bGU8v3vNB1K"
      },
      "source": [
        "sb.boxplot(x='Pclass', y='Age', data=titanic, palette='hls')"
      ],
      "execution_count": null,
      "outputs": []
    },
    {
      "cell_type": "markdown",
      "metadata": {
        "id": "cxmbC7w7PSwv"
      },
      "source": [
        "Falando mais ou menos, poderíamos dizer que quanto mais jovem é um passageiro, mais provável é que ele esteja na 3ª classe. Quanto mais velho for um passageiro, maior a probabilidade de estarem na 1ª classe. Portanto, há um relacionamento frouxo entre essas variáveis. Então, vamos escrever uma função que se aproxime da idade dos passageiros, com base em sua classe. Na caixa, parece que a idade média dos passageiros de 1ª classe é de cerca de 37 anos, os passageiros de 2ª classe são 29 e os passageiros de 3ª classe são 24.\n",
        "\n",
        "Então, vamos escrever uma função que encontre cada valor nulo na variável Age e, para cada nulo, verifique o valor da Pclass e atribua um valor de idade de acordo com a idade média dos passageiros nessa classe."
      ]
    },
    {
      "cell_type": "code",
      "metadata": {
        "id": "usibgmn9PsEA"
      },
      "source": [
        "def age_approx(cols):\n",
        "    Age = cols[0]\n",
        "    Pclass = cols[1]\n",
        "\n",
        "    if pd.isnull(Age):\n",
        "        if Pclass == 1:\n",
        "            return 37\n",
        "        elif Pclass == 2:\n",
        "            return 29\n",
        "        else:\n",
        "            return 24\n",
        "    else:\n",
        "        return Age\n"
      ],
      "execution_count": null,
      "outputs": []
    },
    {
      "cell_type": "markdown",
      "metadata": {
        "id": "3qEo8WT8QkOO"
      },
      "source": [
        "Após definir a função, vamos executar apenas para os valores nulos de Age"
      ]
    },
    {
      "cell_type": "code",
      "metadata": {
        "id": "1WkN9I0XIykX"
      },
      "source": [
        "titanic[['Age', 'Pclass']]"
      ],
      "execution_count": null,
      "outputs": []
    },
    {
      "cell_type": "code",
      "metadata": {
        "id": "A-sX7pkXI2-Y"
      },
      "source": [
        "titanic[['Age', 'Pclass']].apply(age_approx, axis=1)"
      ],
      "execution_count": null,
      "outputs": []
    },
    {
      "cell_type": "code",
      "metadata": {
        "id": "27VJJXpgQlRm"
      },
      "source": [
        "titanic['Age'] = titanic[['Age', 'Pclass']].apply(age_approx, axis=1)\n",
        "titanic.isnull().sum()"
      ],
      "execution_count": null,
      "outputs": []
    },
    {
      "cell_type": "markdown",
      "metadata": {
        "id": "jsmHVtFnSruL"
      },
      "source": [
        "Existem ainda 2 valores nulos na variável Embarked. Podemos eliminar esses dois registros sem perder muitas informações importantes do nosso conjunto de dados, então faremos isso."
      ]
    },
    {
      "cell_type": "code",
      "metadata": {
        "id": "IEuFTz8rSvEs"
      },
      "source": [
        "titanic.dropna(inplace=True)\n",
        "titanic.isnull().sum()"
      ],
      "execution_count": null,
      "outputs": []
    },
    {
      "cell_type": "code",
      "metadata": {
        "id": "gFqLpf-9J_nO"
      },
      "source": [
        "titanic.info()"
      ],
      "execution_count": null,
      "outputs": []
    },
    {
      "cell_type": "markdown",
      "metadata": {
        "id": "vX1PBZsiS67r"
      },
      "source": [
        "### Convertendo variaveis categóricas com one-hot-enconding (via pandas usa-se a função get_dummies)"
      ]
    },
    {
      "cell_type": "code",
      "source": [
        "aux = pd.get_dummies(titanic['Sex'],drop_first=False)\n",
        "aux.head()"
      ],
      "metadata": {
        "id": "OubPU5Uhu16y"
      },
      "execution_count": null,
      "outputs": []
    },
    {
      "cell_type": "code",
      "metadata": {
        "id": "eWGqBpw8S-rC"
      },
      "source": [
        "gender = pd.get_dummies(titanic['Sex'],drop_first=True)\n",
        "gender.head()"
      ],
      "execution_count": null,
      "outputs": []
    },
    {
      "cell_type": "code",
      "metadata": {
        "id": "DMnqP5SyUc6i"
      },
      "source": [
        "embark_location = pd.get_dummies(titanic['Embarked'],drop_first=True)\n",
        "embark_location.head(10)"
      ],
      "execution_count": null,
      "outputs": []
    },
    {
      "cell_type": "code",
      "metadata": {
        "id": "iovWJsKbUwDB"
      },
      "source": [
        "titanic.drop(['Sex', 'Embarked'],axis=1,inplace=True)\n",
        "titanic.head()\n",
        "\n",
        "titanic_dmy = pd.concat([titanic,gender,embark_location],axis=1)\n",
        "titanic_dmy.head()"
      ],
      "execution_count": null,
      "outputs": []
    },
    {
      "cell_type": "code",
      "metadata": {
        "id": "Efpk1PNsMivM"
      },
      "source": [
        "titanic_dmy.info()"
      ],
      "execution_count": null,
      "outputs": []
    },
    {
      "cell_type": "markdown",
      "source": [
        "Precisariamos fazer Feature Selection, mas faremos nas próximas aulas...\n"
      ],
      "metadata": {
        "id": "RbP8wF4e-VlR"
      }
    },
    {
      "cell_type": "markdown",
      "metadata": {
        "id": "4_tsQDEPZEq6"
      },
      "source": [
        "### Agora Vamos Classificar!\n",
        "1º: Separar o conjunto em variável resposta e variáveis de treinamento"
      ]
    },
    {
      "cell_type": "code",
      "metadata": {
        "id": "WJqyJLUBZKqN"
      },
      "source": [
        "X = titanic_dmy.iloc[:,[1,2,3,4,5,6,7,8]].values\n",
        "y = titanic_dmy.iloc[:,0].values"
      ],
      "execution_count": null,
      "outputs": []
    },
    {
      "cell_type": "code",
      "metadata": {
        "id": "QsZwt3BuUtPp"
      },
      "source": [
        "#X = titanic_dmy[['Age',\t'SibSp',\t'Parch',\t'Fare',\t'male'\t,'S']].values\n",
        "#y = titanic_dmy['Survived'].values"
      ],
      "execution_count": null,
      "outputs": []
    },
    {
      "cell_type": "code",
      "metadata": {
        "id": "dbmSd44VlBy8"
      },
      "source": [
        "X"
      ],
      "execution_count": null,
      "outputs": []
    },
    {
      "cell_type": "code",
      "metadata": {
        "id": "qjMKuU44lIEH"
      },
      "source": [
        "y"
      ],
      "execution_count": null,
      "outputs": []
    },
    {
      "cell_type": "markdown",
      "metadata": {
        "id": "HutAhh2tcVhR"
      },
      "source": [
        "Agora dividir em treino e teste (teste com 30%)"
      ]
    },
    {
      "cell_type": "code",
      "metadata": {
        "id": "7QSFBUT7cXXh"
      },
      "source": [
        "X_train, X_test, y_train, y_test = train_test_split(X, y, test_size = .3, random_state=25)"
      ],
      "execution_count": null,
      "outputs": []
    },
    {
      "cell_type": "markdown",
      "metadata": {
        "id": "q6ZkoROea6iI"
      },
      "source": [
        "Normalização do Conjunto\n",
        "\n",
        "**Pergunta**: Devemos rodar o Scaler em qual conjunto de dados (completo, train ou teste)?"
      ]
    },
    {
      "cell_type": "code",
      "metadata": {
        "id": "J5M_3m3ya74d"
      },
      "source": [
        "#scaler = MinMaxScaler().fit(X_train)\n",
        "#scaler = MinMaxScaler().fit(X_test)\n",
        "\n",
        "X_train = scaler.transform(X_train)\n",
        "X_test = scaler.transform(X_test)"
      ],
      "execution_count": null,
      "outputs": []
    },
    {
      "cell_type": "code",
      "source": [
        "X_train"
      ],
      "metadata": {
        "id": "pJropHZj0GDC"
      },
      "execution_count": null,
      "outputs": []
    },
    {
      "cell_type": "code",
      "source": [
        "X_test"
      ],
      "metadata": {
        "id": "HyixuCAT0J2T"
      },
      "execution_count": null,
      "outputs": []
    },
    {
      "cell_type": "markdown",
      "metadata": {
        "id": "41MsJR2rdi0F"
      },
      "source": [
        "Criação do modelo knn com o valor de k =\n",
        "\n",
        "\n"
      ]
    },
    {
      "cell_type": "code",
      "metadata": {
        "id": "ESIKYpmndkNV"
      },
      "source": [
        "Classif_KNN = KNeighborsClassifier(n_neighbors=1)"
      ],
      "execution_count": null,
      "outputs": []
    },
    {
      "cell_type": "markdown",
      "metadata": {
        "id": "27m6_J2Bdt2x"
      },
      "source": [
        "Processo de treinamento com 70% dos dados"
      ]
    },
    {
      "cell_type": "code",
      "metadata": {
        "id": "ALhTKgwydu6C"
      },
      "source": [
        "Classif_KNN.fit(X_train, y_train)"
      ],
      "execution_count": null,
      "outputs": []
    },
    {
      "cell_type": "markdown",
      "metadata": {
        "id": "t8fvEwNvd2Yf"
      },
      "source": [
        "Processo de teste com 30% dos dados que não foram utilizados no treinamento"
      ]
    },
    {
      "cell_type": "code",
      "metadata": {
        "id": "1vfRET5Nd3iC"
      },
      "source": [
        "y_pred = Classif_KNN.predict(X_test)"
      ],
      "execution_count": null,
      "outputs": []
    },
    {
      "cell_type": "code",
      "metadata": {
        "id": "0tcubCqlmhre"
      },
      "source": [
        "y_pred"
      ],
      "execution_count": null,
      "outputs": []
    },
    {
      "cell_type": "code",
      "metadata": {
        "id": "XkStfAYSmoVT"
      },
      "source": [
        "y_test"
      ],
      "execution_count": null,
      "outputs": []
    },
    {
      "cell_type": "markdown",
      "metadata": {
        "id": "O6E3GkLfe9PI"
      },
      "source": [
        "###Avaliando o modelo\n",
        "Analisando o rotulo real com o rotulo predito"
      ]
    },
    {
      "cell_type": "code",
      "metadata": {
        "id": "wlUJ1s8jgGJB"
      },
      "source": [
        "print(classification_report(y_test, y_pred))\n",
        "print(accuracy_score(y_test, y_pred))"
      ],
      "execution_count": null,
      "outputs": []
    },
    {
      "cell_type": "code",
      "metadata": {
        "id": "_T1psrmvnyLi"
      },
      "source": [
        "cm = confusion_matrix( y_test, y_pred)\n",
        "disp = ConfusionMatrixDisplay(cm)\n",
        "disp.plot()"
      ],
      "execution_count": null,
      "outputs": []
    },
    {
      "cell_type": "code",
      "source": [
        "labels = [0,1]\n",
        "label_names = ['NS', 'S']\n",
        "cm = confusion_matrix( y_test, y_pred, labels = labels, normalize='true')\n",
        "disp = ConfusionMatrixDisplay(cm, display_labels = label_names)\n",
        "disp.plot()"
      ],
      "metadata": {
        "id": "uPXB9FHC_B_2"
      },
      "execution_count": null,
      "outputs": []
    },
    {
      "cell_type": "markdown",
      "metadata": {
        "id": "GJnViLiwhDkh"
      },
      "source": [
        "Testa do K=1 até K=26\n"
      ]
    },
    {
      "cell_type": "code",
      "metadata": {
        "id": "G4KxRR_9hI_v"
      },
      "source": [
        "k_range = range(1, 26)\n",
        "scores = []\n",
        "\n",
        "for k in k_range:\n",
        "    knn = KNeighborsClassifier(n_neighbors=k)\n",
        "    knn.fit(X_train, y_train)\n",
        "    y_pred = knn.predict(X_test)\n",
        "    scores.append(accuracy_score(y_test, y_pred))"
      ],
      "execution_count": null,
      "outputs": []
    },
    {
      "cell_type": "code",
      "metadata": {
        "id": "RnuDhux2hmPm"
      },
      "source": [
        "print(scores)\n",
        "#Plota os valores de acc. em função do valor escolhido de K\n",
        "plt.plot(k_range, scores)\n",
        "plt.xlabel('Value of K for KNN')\n",
        "plt.ylabel('Testing Accuracy')"
      ],
      "execution_count": null,
      "outputs": []
    },
    {
      "cell_type": "code",
      "metadata": {
        "id": "EZZkjklYso3P"
      },
      "source": [
        "max(scores)"
      ],
      "execution_count": null,
      "outputs": []
    },
    {
      "cell_type": "code",
      "metadata": {
        "id": "J9GA_3IKs4TQ"
      },
      "source": [
        "scores.index(max(scores))"
      ],
      "execution_count": null,
      "outputs": []
    },
    {
      "cell_type": "code",
      "metadata": {
        "id": "cic_HUYih9ls"
      },
      "source": [
        "#Avaliando a melhor configuração de KNN\n",
        "best_KNN = KNeighborsClassifier(n_neighbors=10)\n",
        "best_KNN.fit(X_train, y_train)\n",
        "y_pred = best_KNN.predict(X_test)\n"
      ],
      "execution_count": null,
      "outputs": []
    },
    {
      "cell_type": "code",
      "metadata": {
        "id": "FXuy1tkgi5AR"
      },
      "source": [
        "print(classification_report(y_test, y_pred))\n",
        "print(accuracy_score(y_test, y_pred))"
      ],
      "execution_count": null,
      "outputs": []
    },
    {
      "cell_type": "code",
      "source": [
        "cm = confusion_matrix( y_test, y_pred, labels = labels, normalize='true')\n",
        "disp = ConfusionMatrixDisplay(cm, display_labels = label_names)\n",
        "disp.plot()"
      ],
      "metadata": {
        "id": "d-FSzRMDBqdy"
      },
      "execution_count": null,
      "outputs": []
    },
    {
      "cell_type": "markdown",
      "source": [
        "## Exercício:\n",
        "\n",
        "Fizemos esta demonstração com o MinMaxScaler. Reproduza os estudos para os seguintes cenários: Sem Data Scaling, StandardScaler e RobustScaler\n",
        "\n",
        "Analise os resultados e responda as seguintes perguntas:\n",
        "\n",
        "*   Qual é o efeito do normalizador/padronizador sobre o parâmetro do classificador?\n",
        "*   Qual é o efeito na matriz de confusão?\n",
        "*   Qual é o efeito na acurácia?\n",
        "*   Qual é o melhor na sua opinião?\n",
        "\n",
        "\n",
        "## Desafio (opcional):\n",
        "\n",
        "No estudo de varreduras do parâmetro k do `KNeighborsClassifier`, notamos algumas flutuações na acurácia do modelo. Faça uma alteração no programa para que seja possível melhorar a avaliação do melhor valor de k.\n"
      ],
      "metadata": {
        "id": "i4IK_9w-C3W_"
      }
    }
  ]
}