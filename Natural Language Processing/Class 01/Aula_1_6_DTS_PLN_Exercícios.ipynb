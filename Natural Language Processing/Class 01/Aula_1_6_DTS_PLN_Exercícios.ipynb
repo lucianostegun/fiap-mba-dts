{
  "cells": [
    {
      "attachments": {},
      "cell_type": "markdown",
      "metadata": {
        "id": "1FdxZAH6TWPH"
      },
      "source": [
        "#**Exercícios - Aula 1**"
      ]
    },
    {
      "attachments": {},
      "cell_type": "markdown",
      "metadata": {
        "id": "fXEgdkBma6Qq"
      },
      "source": [
        "## 1) Dado o dataset de produtos [1]:\n",
        "\n",
        "[1] - https://dados-ml-pln.s3-sa-east-1.amazonaws.com/produtos.csv"
      ]
    },
    {
      "cell_type": "code",
      "execution_count": 1,
      "metadata": {
        "id": "b3xBLIOPIyCj"
      },
      "outputs": [
        {
          "name": "stderr",
          "output_type": "stream",
          "text": [
            "C:\\Users\\logonrmlocal\\AppData\\Local\\Temp\\ipykernel_12824\\2593451676.py:1: DeprecationWarning: \n",
            "Pyarrow will become a required dependency of pandas in the next major release of pandas (pandas 3.0),\n",
            "(to allow more performant data types, such as the Arrow string type, and better interoperability with other libraries)\n",
            "but was not found to be installed on your system.\n",
            "If this would cause problems for you,\n",
            "please provide us feedback at https://github.com/pandas-dev/pandas/issues/54466\n",
            "        \n",
            "  import pandas as pd\n"
          ]
        }
      ],
      "source": [
        "import pandas as pd\n",
        "\n",
        "df = pd.read_csv(\n",
        "    \"https://dados-ml-pln.s3-sa-east-1.amazonaws.com/produtos.csv\",\n",
        "    delimiter=\";\",\n",
        "    encoding='utf-8' )"
      ]
    },
    {
      "attachments": {},
      "cell_type": "markdown",
      "metadata": {
        "id": "EFdExcLpyvJn"
      },
      "source": [
        "#### 1.1. Analise o % de valores nulos no dataset"
      ]
    },
    {
      "cell_type": "code",
      "execution_count": null,
      "metadata": {
        "id": "HE0C9l8fyoE6"
      },
      "outputs": [],
      "source": [
        "# resposta"
      ]
    },
    {
      "attachments": {},
      "cell_type": "markdown",
      "metadata": {
        "id": "dUP31qMIzJF_"
      },
      "source": [
        "#### 1.2. Remova os registros/linhas com valores nulos, se houver"
      ]
    },
    {
      "cell_type": "code",
      "execution_count": null,
      "metadata": {
        "id": "OVcrSplkzRex"
      },
      "outputs": [],
      "source": [
        "# resposta"
      ]
    },
    {
      "attachments": {},
      "cell_type": "markdown",
      "metadata": {
        "id": "OscRtUY3zRRI"
      },
      "source": [
        "#### 1.3. Analise a distribuição das “categorias”"
      ]
    },
    {
      "cell_type": "code",
      "execution_count": null,
      "metadata": {
        "id": "ZOfPrW97zRCQ"
      },
      "outputs": [],
      "source": [
        "# resposta"
      ]
    },
    {
      "attachments": {},
      "cell_type": "markdown",
      "metadata": {
        "id": "L-CbfxHHypAN"
      },
      "source": [
        "#### 1.4 Crie uma nova coluna chamada \"texto“, concatenando as colunas \"nome\" e \"descricao\"\n"
      ]
    },
    {
      "cell_type": "code",
      "execution_count": null,
      "metadata": {
        "id": "NMp70mZubnoZ"
      },
      "outputs": [],
      "source": [
        "# resposta"
      ]
    },
    {
      "attachments": {},
      "cell_type": "markdown",
      "metadata": {
        "id": "jxDRBAZAIDLn"
      },
      "source": [
        "#### 1.5 Descubra as 10 palavras que mais ocorrem nessa nova coluna “texto”"
      ]
    },
    {
      "cell_type": "code",
      "execution_count": 3,
      "metadata": {
        "colab": {
          "base_uri": "https://localhost:8080/"
        },
        "id": "rYSU_nBZbnfN",
        "outputId": "ef8c8df3-1c39-4845-91cc-6409292bcf93"
      },
      "outputs": [
        {
          "data": {
            "text/plain": [
              "Counter({'a': 2, 'b': 1})"
            ]
          },
          "execution_count": 3,
          "metadata": {},
          "output_type": "execute_result"
        }
      ],
      "source": [
        "# exemplo de referência para montar a lógica\n",
        "from collections import Counter\n",
        "counter = Counter()\n",
        "counter['a'] += 1\n",
        "counter\n",
        "counter.most_common()\n",
        "\n",
        "counter.update('a')\n",
        "counter.update('b')"
      ]
    },
    {
      "attachments": {},
      "cell_type": "markdown",
      "metadata": {
        "id": "JMpQLGqtINgu"
      },
      "source": [
        "### **Bônus!** Monte uma nuvem de palavras"
      ]
    },
    {
      "cell_type": "code",
      "execution_count": null,
      "metadata": {
        "id": "lbs_nO4TIQ7o"
      },
      "outputs": [],
      "source": [
        "# resposta"
      ]
    },
    {
      "attachments": {},
      "cell_type": "markdown",
      "metadata": {
        "id": "Gz6d4AqXTWPL"
      },
      "source": [
        "## 2) Utilizando o dataset de produtos [1]:"
      ]
    },
    {
      "cell_type": "code",
      "execution_count": 2,
      "metadata": {
        "id": "ZPHVrmEcIe0-"
      },
      "outputs": [],
      "source": [
        "import pandas as pd\n",
        "\n",
        "df = pd.read_csv(\n",
        "    \"https://dados-ml-pln.s3-sa-east-1.amazonaws.com/produtos.csv\",\n",
        "    delimiter=\";\",\n",
        "    encoding='utf-8' )"
      ]
    },
    {
      "attachments": {},
      "cell_type": "markdown",
      "metadata": {
        "id": "s32ceDVmTWPL"
      },
      "source": [
        "#### 2.1. Elimine linhas com valores nulos"
      ]
    },
    {
      "cell_type": "code",
      "execution_count": 4,
      "metadata": {
        "id": "KatXy-7hTWPL"
      },
      "outputs": [
        {
          "data": {
            "text/html": [
              "<div>\n",
              "<style scoped>\n",
              "    .dataframe tbody tr th:only-of-type {\n",
              "        vertical-align: middle;\n",
              "    }\n",
              "\n",
              "    .dataframe tbody tr th {\n",
              "        vertical-align: top;\n",
              "    }\n",
              "\n",
              "    .dataframe thead th {\n",
              "        text-align: right;\n",
              "    }\n",
              "</style>\n",
              "<table border=\"1\" class=\"dataframe\">\n",
              "  <thead>\n",
              "    <tr style=\"text-align: right;\">\n",
              "      <th></th>\n",
              "      <th>nome</th>\n",
              "      <th>descricao</th>\n",
              "      <th>categoria</th>\n",
              "    </tr>\n",
              "  </thead>\n",
              "  <tbody>\n",
              "    <tr>\n",
              "      <th>0</th>\n",
              "      <td>O Hobbit - 7ª Ed. 2013</td>\n",
              "      <td>Produto NovoBilbo Bolseiro é um hobbit que lev...</td>\n",
              "      <td>livro</td>\n",
              "    </tr>\n",
              "    <tr>\n",
              "      <th>1</th>\n",
              "      <td>Livro - It A Coisa - Stephen King</td>\n",
              "      <td>Produto NovoDurante as férias escolares de 195...</td>\n",
              "      <td>livro</td>\n",
              "    </tr>\n",
              "    <tr>\n",
              "      <th>2</th>\n",
              "      <td>Box  As Crônicas De Gelo E Fogo  Pocket  5 Li...</td>\n",
              "      <td>Produto NovoTodo o reino de Westeros ao alcanc...</td>\n",
              "      <td>livro</td>\n",
              "    </tr>\n",
              "    <tr>\n",
              "      <th>3</th>\n",
              "      <td>Box Harry Potter</td>\n",
              "      <td>Produto Novo e Físico  A série Harry Potter ch...</td>\n",
              "      <td>livro</td>\n",
              "    </tr>\n",
              "    <tr>\n",
              "      <th>4</th>\n",
              "      <td>Livro Origem - Dan Brown</td>\n",
              "      <td>Produto NovoDe Onde Viemos? Para Onde Vamos? R...</td>\n",
              "      <td>livro</td>\n",
              "    </tr>\n",
              "    <tr>\n",
              "      <th>...</th>\n",
              "      <td>...</td>\n",
              "      <td>...</td>\n",
              "      <td>...</td>\n",
              "    </tr>\n",
              "    <tr>\n",
              "      <th>4073</th>\n",
              "      <td>Red Dead Redemption Edição Do Ano Goty Xbox 3...</td>\n",
              "      <td>Red Dead Redemption Edição Do Ano Goty Xbox 36...</td>\n",
              "      <td>game</td>\n",
              "    </tr>\n",
              "    <tr>\n",
              "      <th>4074</th>\n",
              "      <td>Jogo Gta 5 Grand Theft Auto V Ps4 Mídia Cd + ...</td>\n",
              "      <td>Game: GTA V - Grand Theft Auto FiveEspecificaç...</td>\n",
              "      <td>game</td>\n",
              "    </tr>\n",
              "    <tr>\n",
              "      <th>4075</th>\n",
              "      <td>Zelda: Breath Of The Wild - Expansion Pass - ...</td>\n",
              "      <td>ENVIO IMEDIATO APÓS CONFIRMAÇÃOCom este Passe ...</td>\n",
              "      <td>game</td>\n",
              "    </tr>\n",
              "    <tr>\n",
              "      <th>4078</th>\n",
              "      <td>Gta San Andreas Hd Remastered Ps3 Envio Imedi...</td>\n",
              "      <td>Nome do jogo: GTA San Andreas HD RemasterConso...</td>\n",
              "      <td>game</td>\n",
              "    </tr>\n",
              "    <tr>\n",
              "      <th>4079</th>\n",
              "      <td>Mini Game  Nova Portátil 10mil Jogos Player M...</td>\n",
              "      <td>Para ligar o aparelho pressionar os botões On ...</td>\n",
              "      <td>game</td>\n",
              "    </tr>\n",
              "  </tbody>\n",
              "</table>\n",
              "<p>2916 rows × 3 columns</p>\n",
              "</div>"
            ],
            "text/plain": [
              "                                                   nome  \\\n",
              "0                               O Hobbit - 7ª Ed. 2013    \n",
              "1                    Livro - It A Coisa - Stephen King    \n",
              "2      Box  As Crônicas De Gelo E Fogo  Pocket  5 Li...   \n",
              "3                                     Box Harry Potter    \n",
              "4                             Livro Origem - Dan Brown    \n",
              "...                                                 ...   \n",
              "4073   Red Dead Redemption Edição Do Ano Goty Xbox 3...   \n",
              "4074   Jogo Gta 5 Grand Theft Auto V Ps4 Mídia Cd + ...   \n",
              "4075   Zelda: Breath Of The Wild - Expansion Pass - ...   \n",
              "4078   Gta San Andreas Hd Remastered Ps3 Envio Imedi...   \n",
              "4079   Mini Game  Nova Portátil 10mil Jogos Player M...   \n",
              "\n",
              "                                              descricao categoria  \n",
              "0     Produto NovoBilbo Bolseiro é um hobbit que lev...     livro  \n",
              "1     Produto NovoDurante as férias escolares de 195...     livro  \n",
              "2     Produto NovoTodo o reino de Westeros ao alcanc...     livro  \n",
              "3     Produto Novo e Físico  A série Harry Potter ch...     livro  \n",
              "4     Produto NovoDe Onde Viemos? Para Onde Vamos? R...     livro  \n",
              "...                                                 ...       ...  \n",
              "4073  Red Dead Redemption Edição Do Ano Goty Xbox 36...      game  \n",
              "4074  Game: GTA V - Grand Theft Auto FiveEspecificaç...      game  \n",
              "4075  ENVIO IMEDIATO APÓS CONFIRMAÇÃOCom este Passe ...      game  \n",
              "4078  Nome do jogo: GTA San Andreas HD RemasterConso...      game  \n",
              "4079  Para ligar o aparelho pressionar os botões On ...      game  \n",
              "\n",
              "[2916 rows x 3 columns]"
            ]
          },
          "execution_count": 4,
          "metadata": {},
          "output_type": "execute_result"
        }
      ],
      "source": [
        "# resposta\n",
        "df.dropna(inplace=True)\n",
        "df"
      ]
    },
    {
      "attachments": {},
      "cell_type": "markdown",
      "metadata": {
        "id": "lvcsAfnBTWPL"
      },
      "source": [
        "#### 2.2. Adicione uma nova coluna chamada texto, formada pela composição das colunas nome e descrição"
      ]
    },
    {
      "cell_type": "code",
      "execution_count": 5,
      "metadata": {
        "id": "3H0Y6M2eTWPM"
      },
      "outputs": [
        {
          "data": {
            "text/html": [
              "<div>\n",
              "<style scoped>\n",
              "    .dataframe tbody tr th:only-of-type {\n",
              "        vertical-align: middle;\n",
              "    }\n",
              "\n",
              "    .dataframe tbody tr th {\n",
              "        vertical-align: top;\n",
              "    }\n",
              "\n",
              "    .dataframe thead th {\n",
              "        text-align: right;\n",
              "    }\n",
              "</style>\n",
              "<table border=\"1\" class=\"dataframe\">\n",
              "  <thead>\n",
              "    <tr style=\"text-align: right;\">\n",
              "      <th></th>\n",
              "      <th>nome</th>\n",
              "      <th>descricao</th>\n",
              "      <th>categoria</th>\n",
              "      <th>texto</th>\n",
              "    </tr>\n",
              "  </thead>\n",
              "  <tbody>\n",
              "    <tr>\n",
              "      <th>0</th>\n",
              "      <td>O Hobbit - 7ª Ed. 2013</td>\n",
              "      <td>Produto NovoBilbo Bolseiro é um hobbit que lev...</td>\n",
              "      <td>livro</td>\n",
              "      <td>O Hobbit - 7ª Ed. 2013  Produto NovoBilbo Bol...</td>\n",
              "    </tr>\n",
              "    <tr>\n",
              "      <th>1</th>\n",
              "      <td>Livro - It A Coisa - Stephen King</td>\n",
              "      <td>Produto NovoDurante as férias escolares de 195...</td>\n",
              "      <td>livro</td>\n",
              "      <td>Livro - It A Coisa - Stephen King  Produto No...</td>\n",
              "    </tr>\n",
              "    <tr>\n",
              "      <th>2</th>\n",
              "      <td>Box  As Crônicas De Gelo E Fogo  Pocket  5 Li...</td>\n",
              "      <td>Produto NovoTodo o reino de Westeros ao alcanc...</td>\n",
              "      <td>livro</td>\n",
              "      <td>Box  As Crônicas De Gelo E Fogo  Pocket  5 Li...</td>\n",
              "    </tr>\n",
              "    <tr>\n",
              "      <th>3</th>\n",
              "      <td>Box Harry Potter</td>\n",
              "      <td>Produto Novo e Físico  A série Harry Potter ch...</td>\n",
              "      <td>livro</td>\n",
              "      <td>Box Harry Potter  Produto Novo e Físico  A sé...</td>\n",
              "    </tr>\n",
              "    <tr>\n",
              "      <th>4</th>\n",
              "      <td>Livro Origem - Dan Brown</td>\n",
              "      <td>Produto NovoDe Onde Viemos? Para Onde Vamos? R...</td>\n",
              "      <td>livro</td>\n",
              "      <td>Livro Origem - Dan Brown  Produto NovoDe Onde...</td>\n",
              "    </tr>\n",
              "    <tr>\n",
              "      <th>...</th>\n",
              "      <td>...</td>\n",
              "      <td>...</td>\n",
              "      <td>...</td>\n",
              "      <td>...</td>\n",
              "    </tr>\n",
              "    <tr>\n",
              "      <th>4073</th>\n",
              "      <td>Red Dead Redemption Edição Do Ano Goty Xbox 3...</td>\n",
              "      <td>Red Dead Redemption Edição Do Ano Goty Xbox 36...</td>\n",
              "      <td>game</td>\n",
              "      <td>Red Dead Redemption Edição Do Ano Goty Xbox 3...</td>\n",
              "    </tr>\n",
              "    <tr>\n",
              "      <th>4074</th>\n",
              "      <td>Jogo Gta 5 Grand Theft Auto V Ps4 Mídia Cd + ...</td>\n",
              "      <td>Game: GTA V - Grand Theft Auto FiveEspecificaç...</td>\n",
              "      <td>game</td>\n",
              "      <td>Jogo Gta 5 Grand Theft Auto V Ps4 Mídia Cd + ...</td>\n",
              "    </tr>\n",
              "    <tr>\n",
              "      <th>4075</th>\n",
              "      <td>Zelda: Breath Of The Wild - Expansion Pass - ...</td>\n",
              "      <td>ENVIO IMEDIATO APÓS CONFIRMAÇÃOCom este Passe ...</td>\n",
              "      <td>game</td>\n",
              "      <td>Zelda: Breath Of The Wild - Expansion Pass - ...</td>\n",
              "    </tr>\n",
              "    <tr>\n",
              "      <th>4078</th>\n",
              "      <td>Gta San Andreas Hd Remastered Ps3 Envio Imedi...</td>\n",
              "      <td>Nome do jogo: GTA San Andreas HD RemasterConso...</td>\n",
              "      <td>game</td>\n",
              "      <td>Gta San Andreas Hd Remastered Ps3 Envio Imedi...</td>\n",
              "    </tr>\n",
              "    <tr>\n",
              "      <th>4079</th>\n",
              "      <td>Mini Game  Nova Portátil 10mil Jogos Player M...</td>\n",
              "      <td>Para ligar o aparelho pressionar os botões On ...</td>\n",
              "      <td>game</td>\n",
              "      <td>Mini Game  Nova Portátil 10mil Jogos Player M...</td>\n",
              "    </tr>\n",
              "  </tbody>\n",
              "</table>\n",
              "<p>2916 rows × 4 columns</p>\n",
              "</div>"
            ],
            "text/plain": [
              "                                                   nome  \\\n",
              "0                               O Hobbit - 7ª Ed. 2013    \n",
              "1                    Livro - It A Coisa - Stephen King    \n",
              "2      Box  As Crônicas De Gelo E Fogo  Pocket  5 Li...   \n",
              "3                                     Box Harry Potter    \n",
              "4                             Livro Origem - Dan Brown    \n",
              "...                                                 ...   \n",
              "4073   Red Dead Redemption Edição Do Ano Goty Xbox 3...   \n",
              "4074   Jogo Gta 5 Grand Theft Auto V Ps4 Mídia Cd + ...   \n",
              "4075   Zelda: Breath Of The Wild - Expansion Pass - ...   \n",
              "4078   Gta San Andreas Hd Remastered Ps3 Envio Imedi...   \n",
              "4079   Mini Game  Nova Portátil 10mil Jogos Player M...   \n",
              "\n",
              "                                              descricao categoria  \\\n",
              "0     Produto NovoBilbo Bolseiro é um hobbit que lev...     livro   \n",
              "1     Produto NovoDurante as férias escolares de 195...     livro   \n",
              "2     Produto NovoTodo o reino de Westeros ao alcanc...     livro   \n",
              "3     Produto Novo e Físico  A série Harry Potter ch...     livro   \n",
              "4     Produto NovoDe Onde Viemos? Para Onde Vamos? R...     livro   \n",
              "...                                                 ...       ...   \n",
              "4073  Red Dead Redemption Edição Do Ano Goty Xbox 36...      game   \n",
              "4074  Game: GTA V - Grand Theft Auto FiveEspecificaç...      game   \n",
              "4075  ENVIO IMEDIATO APÓS CONFIRMAÇÃOCom este Passe ...      game   \n",
              "4078  Nome do jogo: GTA San Andreas HD RemasterConso...      game   \n",
              "4079  Para ligar o aparelho pressionar os botões On ...      game   \n",
              "\n",
              "                                                  texto  \n",
              "0      O Hobbit - 7ª Ed. 2013  Produto NovoBilbo Bol...  \n",
              "1      Livro - It A Coisa - Stephen King  Produto No...  \n",
              "2      Box  As Crônicas De Gelo E Fogo  Pocket  5 Li...  \n",
              "3      Box Harry Potter  Produto Novo e Físico  A sé...  \n",
              "4      Livro Origem - Dan Brown  Produto NovoDe Onde...  \n",
              "...                                                 ...  \n",
              "4073   Red Dead Redemption Edição Do Ano Goty Xbox 3...  \n",
              "4074   Jogo Gta 5 Grand Theft Auto V Ps4 Mídia Cd + ...  \n",
              "4075   Zelda: Breath Of The Wild - Expansion Pass - ...  \n",
              "4078   Gta San Andreas Hd Remastered Ps3 Envio Imedi...  \n",
              "4079   Mini Game  Nova Portátil 10mil Jogos Player M...  \n",
              "\n",
              "[2916 rows x 4 columns]"
            ]
          },
          "execution_count": 5,
          "metadata": {},
          "output_type": "execute_result"
        }
      ],
      "source": [
        "# resposta\n",
        "df[\"texto\"] = df[\"nome\"] + \" \" + df[\"descricao\"]\n",
        "df"
      ]
    },
    {
      "attachments": {},
      "cell_type": "markdown",
      "metadata": {
        "id": "jX3VZnUVTWPM"
      },
      "source": [
        "#### 2.3. Conte quantos Unigramas existem antes e depois de remover stopwords (use a coluna texto)"
      ]
    },
    {
      "cell_type": "code",
      "execution_count": 29,
      "metadata": {},
      "outputs": [
        {
          "name": "stdout",
          "output_type": "stream",
          "text": [
            "UNIGRAMAS (com stop words) 35466\n"
          ]
        }
      ],
      "source": [
        "import nltk\n",
        "\n",
        "vect = CountVectorizer(ngram_range=(1,1))\n",
        "vect.fit(df[\"texto\"])\n",
        "\n",
        "text_vect = vect.transform(df[\"texto\"])\n",
        "\n",
        "print('UNIGRAMAS (com stop words)', text_vect.shape[1])"
      ]
    },
    {
      "cell_type": "code",
      "execution_count": 31,
      "metadata": {},
      "outputs": [
        {
          "name": "stderr",
          "output_type": "stream",
          "text": [
            "[nltk_data] Downloading package stopwords to\n",
            "[nltk_data]     C:\\Users\\logonrmlocal\\AppData\\Roaming\\nltk_data...\n",
            "[nltk_data]   Package stopwords is already up-to-date!\n"
          ]
        },
        {
          "name": "stdout",
          "output_type": "stream",
          "text": [
            "UNIGRAMAS (sem stop words) 35307\n"
          ]
        }
      ],
      "source": [
        "# Removendo stop words\n",
        "nltk.download('stopwords')\n",
        "stops = nltk.corpus.stopwords.words('portuguese')\n",
        "\n",
        "vect = CountVectorizer(ngram_range=(1,1), stop_words=stops)\n",
        "\n",
        "vect.fit(df['texto'])\n",
        "text_vect = vect.transform(df['texto'])\n",
        "\n",
        "#print(pd.DataFrame(text_vect.A, columns=vect.get_feature_names_out()).to_string())\n",
        "print('UNIGRAMAS (sem stop words)', len(vect.get_feature_names_out()))"
      ]
    },
    {
      "attachments": {},
      "cell_type": "markdown",
      "metadata": {
        "id": "a87hK5PtTWPM"
      },
      "source": [
        "#### 2.4. Conte quantos Bigramas existem antes e depois de remover stopwords (use a coluna texto)"
      ]
    },
    {
      "cell_type": "code",
      "execution_count": 26,
      "metadata": {
        "id": "tarAbm3VTWPM"
      },
      "outputs": [
        {
          "name": "stdout",
          "output_type": "stream",
          "text": [
            "BIGRAMAS (com stop words) 159553\n",
            "BIGRAMAS (sem stop words) 145224\n"
          ]
        }
      ],
      "source": [
        "import nltk\n",
        "\n",
        "vect = CountVectorizer(ngram_range=(2,2))\n",
        "vect.fit(df[\"texto\"])\n",
        "\n",
        "text_vect = vect.transform(df[\"texto\"])\n",
        "\n",
        "print('BIGRAMAS (com stop words)', text_vect.shape[1])\n",
        "\n",
        "# Removendo stop words\n",
        "vect = CountVectorizer(ngram_range=(2,2), stop_words=stops)\n",
        "\n",
        "vect.fit(df['texto'])\n",
        "text_vect = vect.transform(df['texto'])\n",
        "\n",
        "print('BIGRAMAS (sem stop words)', len(vect.get_feature_names_out()))"
      ]
    },
    {
      "attachments": {},
      "cell_type": "markdown",
      "metadata": {
        "id": "39tU4nHuTWPN"
      },
      "source": [
        "#### 2.5. Conte quantos Trigramas existem antes e depois de remover stopwords (use a coluna texto)"
      ]
    },
    {
      "cell_type": "code",
      "execution_count": 27,
      "metadata": {
        "id": "VtS19R-CTWPN"
      },
      "outputs": [
        {
          "name": "stdout",
          "output_type": "stream",
          "text": [
            "TRIGRAMAS (com stop words) 228162\n",
            "TRIGRAMAS (sem stop words) 177377\n"
          ]
        }
      ],
      "source": [
        "import nltk\n",
        "\n",
        "vect = CountVectorizer(ngram_range=(3,3))\n",
        "vect.fit(df[\"texto\"])\n",
        "\n",
        "text_vect = vect.transform(df[\"texto\"])\n",
        "\n",
        "print('TRIGRAMAS (com stop words)', text_vect.shape[1])\n",
        "\n",
        "# Removendo stop words\n",
        "vect = CountVectorizer(ngram_range=(3,3), stop_words=stops)\n",
        "\n",
        "vect.fit(df['texto'])\n",
        "text_vect = vect.transform(df['texto'])\n",
        "\n",
        "print('TRIGRAMAS (sem stop words)', len(vect.get_feature_names_out()))"
      ]
    },
    {
      "attachments": {},
      "cell_type": "markdown",
      "metadata": {
        "id": "HcTMZN5fTWPN"
      },
      "source": [
        "#### 2.6. Conte quantos unigramas existem na coluna texto após aplicar Stemmer (utilize rslp)"
      ]
    },
    {
      "cell_type": "code",
      "execution_count": 32,
      "metadata": {},
      "outputs": [
        {
          "name": "stderr",
          "output_type": "stream",
          "text": [
            "[nltk_data] Downloading package punkt to\n",
            "[nltk_data]     C:\\Users\\logonrmlocal\\AppData\\Roaming\\nltk_data...\n",
            "[nltk_data]   Package punkt is already up-to-date!\n"
          ]
        },
        {
          "data": {
            "text/plain": [
              "0       [O, Hobbit, -, 7ª, Ed, ., 2013, Produto, NovoB...\n",
              "1       [Livro, -, It, A, Coisa, -, Stephen, King, Pro...\n",
              "2       [Box, As, Crônicas, De, Gelo, E, Fogo, Pocket,...\n",
              "3       [Box, Harry, Potter, Produto, Novo, e, Físico,...\n",
              "4       [Livro, Origem, -, Dan, Brown, Produto, NovoDe...\n",
              "                              ...                        \n",
              "4073    [Red, Dead, Redemption, Edição, Do, Ano, Goty,...\n",
              "4074    [Jogo, Gta, 5, Grand, Theft, Auto, V, Ps4, Míd...\n",
              "4075    [Zelda, :, Breath, Of, The, Wild, -, Expansion...\n",
              "4078    [Gta, San, Andreas, Hd, Remastered, Ps3, Envio...\n",
              "4079    [Mini, Game, Nova, Portátil, 10mil, Jogos, Pla...\n",
              "Name: tokens, Length: 2916, dtype: object"
            ]
          },
          "execution_count": 32,
          "metadata": {},
          "output_type": "execute_result"
        }
      ],
      "source": [
        "from nltk.tokenize import word_tokenize\n",
        "import nltk\n",
        "nltk.download('punkt')\n",
        "\n",
        "df['tokens'] = df.texto.apply(word_tokenize)\n",
        "df['tokens']"
      ]
    },
    {
      "cell_type": "code",
      "execution_count": 36,
      "metadata": {
        "id": "cl9_xQpZTWPN"
      },
      "outputs": [
        {
          "name": "stderr",
          "output_type": "stream",
          "text": [
            "[nltk_data] Downloading package rslp to\n",
            "[nltk_data]     C:\\Users\\logonrmlocal\\AppData\\Roaming\\nltk_data...\n",
            "[nltk_data]   Package rslp is already up-to-date!\n"
          ]
        },
        {
          "data": {
            "text/plain": [
              "0    o hobbit - 7ª ed . 2013 produt novobilb bols é...\n",
              "1    livr - it a cois - stephen king produt novodur...\n",
              "2    box as crôn de gel e fog pocket 5 livr produt ...\n",
              "3    box harry pott produt nov e físic a séri harry...\n",
              "4    livr orig - dan brown produt novod ond vi ? pa...\n",
              "Name: stemmer, dtype: object"
            ]
          },
          "execution_count": 36,
          "metadata": {},
          "output_type": "execute_result"
        }
      ],
      "source": [
        "from nltk.stem.rslp import RSLPStemmer\n",
        "nltk.download('rslp')\n",
        "\n",
        "rslp = RSLPStemmer()\n",
        "\n",
        "# aplica o stemmer no database\n",
        "def stem_pandas(line):\n",
        "  return ' '.join([rslp.stem(token) for token in line])\n",
        "\n",
        "df['stemmer'] = df.tokens.apply(stem_pandas)\n",
        "\n",
        "df.stemmer.head()"
      ]
    },
    {
      "cell_type": "code",
      "execution_count": 37,
      "metadata": {},
      "outputs": [
        {
          "name": "stdout",
          "output_type": "stream",
          "text": [
            "UNIGRAMAS 26532\n"
          ]
        }
      ],
      "source": [
        "import nltk\n",
        "\n",
        "vect = CountVectorizer(ngram_range=(1,1))\n",
        "vect.fit(df.stemmer)\n",
        "\n",
        "text_vect = vect.transform(df.stemmer)\n",
        "\n",
        "print('UNIGRAMAS', text_vect.shape[1])\n",
        "\n",
        "#print(text_vect.shape[0])\n",
        "#print(text_vect.shape[1])"
      ]
    }
  ],
  "metadata": {
    "colab": {
      "provenance": []
    },
    "kernelspec": {
      "display_name": "Python 3",
      "name": "python3"
    },
    "language_info": {
      "codemirror_mode": {
        "name": "ipython",
        "version": 3
      },
      "file_extension": ".py",
      "mimetype": "text/x-python",
      "name": "python",
      "nbconvert_exporter": "python",
      "pygments_lexer": "ipython3",
      "version": "3.9.12"
    }
  },
  "nbformat": 4,
  "nbformat_minor": 0
}
